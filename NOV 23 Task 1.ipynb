{
 "cells": [
  {
   "cell_type": "code",
   "execution_count": 1,
   "id": "663e7067",
   "metadata": {},
   "outputs": [],
   "source": [
    "#1.write python program to convert a string to lower case ?"
   ]
  },
  {
   "cell_type": "code",
   "execution_count": 2,
   "id": "ffc38c81",
   "metadata": {},
   "outputs": [
    {
     "name": "stdout",
     "output_type": "stream",
     "text": [
      "enter a stringsaipavan\n"
     ]
    },
    {
     "data": {
      "text/plain": [
       "'saipavan'"
      ]
     },
     "execution_count": 2,
     "metadata": {},
     "output_type": "execute_result"
    }
   ],
   "source": [
    "x=input(\"enter a string\")\n",
    "x.lower()"
   ]
  },
  {
   "cell_type": "code",
   "execution_count": 3,
   "id": "d5765a98",
   "metadata": {},
   "outputs": [],
   "source": [
    "#2.write a python program to convert only odd indexed characters to lower case ?"
   ]
  },
  {
   "cell_type": "code",
   "execution_count": 6,
   "id": "0dabe9f2",
   "metadata": {},
   "outputs": [
    {
     "name": "stdout",
     "output_type": "stream",
     "text": [
      "enter a string:PAVANMESSY\n",
      "PaVaNmEsSy\n"
     ]
    }
   ],
   "source": [
    "x=input(\"enter a string:\")\n",
    "a=\"\"\n",
    "for letters in range(0,len(x)):\n",
    "    if letters%2!=0:\n",
    "        a=a+x[letters].lower()\n",
    "    else:\n",
    "        a=a+x[letters]\n",
    "print(a)      "
   ]
  },
  {
   "cell_type": "code",
   "execution_count": 6,
   "id": "e96099bd",
   "metadata": {},
   "outputs": [],
   "source": [
    "#3. write a python program to convert only even indexed character to lower case ?"
   ]
  },
  {
   "cell_type": "code",
   "execution_count": 7,
   "id": "091645ce",
   "metadata": {},
   "outputs": [
    {
     "name": "stdout",
     "output_type": "stream",
     "text": [
      "BILLA SAI PAVAN\n",
      "bIlLa sAi pAvAn\n"
     ]
    }
   ],
   "source": [
    "x=input()\n",
    "a=\"\"\n",
    "for index in range(0,len(x)):\n",
    "    if index%2==0:\n",
    "        a=a+x[index].lower()\n",
    "    else:\n",
    "        a=a+x[index]\n",
    "print(a)       \n",
    "        "
   ]
  },
  {
   "cell_type": "code",
   "execution_count": 8,
   "id": "764073fe",
   "metadata": {},
   "outputs": [],
   "source": [
    "#4. write a python program to convert only odd indexed character to upper case ?"
   ]
  },
  {
   "cell_type": "code",
   "execution_count": 15,
   "id": "f74bb12d",
   "metadata": {},
   "outputs": [
    {
     "name": "stdout",
     "output_type": "stream",
     "text": [
      "enter astring my dad is my hero\n",
      " My dAd iS My hErO\n"
     ]
    }
   ],
   "source": [
    "x=input(\"enter astring\")\n",
    "a=\"\"\n",
    "for index in range(0,len(x)):\n",
    "    if not index%2==0:\n",
    "        a=a+x[index].upper()\n",
    "    else:\n",
    "        a=a+x[index]\n",
    "print(a)"
   ]
  },
  {
   "cell_type": "code",
   "execution_count": 16,
   "id": "45b07d35",
   "metadata": {},
   "outputs": [],
   "source": [
    "#5. write a pythone program to convert only even indexed characters to uper case ?"
   ]
  },
  {
   "cell_type": "code",
   "execution_count": 18,
   "id": "0d1ac87a",
   "metadata": {},
   "outputs": [
    {
     "name": "stdout",
     "output_type": "stream",
     "text": [
      "enter a stringgood morning innomatics\n",
      "gOoD MoRnInG InNoMaTiCs\n"
     ]
    }
   ],
   "source": [
    "x=input(\"enter a string\")\n",
    "a=\"\"\n",
    "for index in range(0,len(x)):\n",
    "    if not index%2==0:\n",
    "        a=a+x[index].upper()\n",
    "    else:\n",
    "        a=a+x[index]\n",
    "print(a)"
   ]
  },
  {
   "cell_type": "code",
   "execution_count": 19,
   "id": "7fbeda1a",
   "metadata": {},
   "outputs": [],
   "source": [
    "#6. write a python program where you have different variablewhich contains your name,sex,phone number,father name and mothers name by using this variable create a bio data ?"
   ]
  },
  {
   "cell_type": "code",
   "execution_count": 30,
   "id": "7d3498ef",
   "metadata": {},
   "outputs": [
    {
     "name": "stdout",
     "output_type": "stream",
     "text": [
      "type your name:saipavan\n",
      "type your sex:male\n",
      "type your age:26\n",
      "type your phone:6301772914\n",
      "type your fathers name:ramulu\n",
      "type your mothers name:narsamma\n"
     ]
    },
    {
     "data": {
      "text/plain": [
       "'my name is saipavan my sex is male my age is 26 my phone is 6301772914 my fathers name is ramulu my mothers name is narsamma'"
      ]
     },
     "execution_count": 30,
     "metadata": {},
     "output_type": "execute_result"
    }
   ],
   "source": [
    "name=input(\"type your name:\")\n",
    "sex=input(\"type your sex:\")\n",
    "age=int(input(\"type your age:\"))\n",
    "phone=int(input(\"type your phone:\"))\n",
    "fathers_name=input(\"type your fathers name:\")\n",
    "mothers_name=input(\"type your mothers name:\")\n",
    "bio_data=\"my name is {} my sex is {} my age is {} my phone is {} my fathers name is {} my mothers name is {}\"\n",
    "bio_data.format(name,sex,age,phone,fathers_name,mothers_name,)\n"
   ]
  },
  {
   "cell_type": "code",
   "execution_count": 31,
   "id": "6dc53110",
   "metadata": {},
   "outputs": [],
   "source": [
    "#7. write a python program to count how many times \"@\" occurred ?"
   ]
  },
  {
   "cell_type": "code",
   "execution_count": 41,
   "id": "cec5d122",
   "metadata": {},
   "outputs": [
    {
     "name": "stdout",
     "output_type": "stream",
     "text": [
      "enter your list\"1\",\"2\",\"3\",\"4\",\"5\",\"@\",\"a\",\"b\"\n"
     ]
    },
    {
     "data": {
      "text/plain": [
       "1"
      ]
     },
     "execution_count": 41,
     "metadata": {},
     "output_type": "execute_result"
    }
   ],
   "source": [
    "var=input(\"enter your list\")\n",
    "var.count(\"@\")"
   ]
  },
  {
   "cell_type": "code",
   "execution_count": 42,
   "id": "6782d886",
   "metadata": {},
   "outputs": [],
   "source": [
    "#8. write a python program get only name from the string ?"
   ]
  },
  {
   "cell_type": "code",
   "execution_count": 47,
   "id": "5ed7d7b3",
   "metadata": {},
   "outputs": [
    {
     "name": "stdout",
     "output_type": "stream",
     "text": [
      "name1 name2 name3\n"
     ]
    }
   ],
   "source": [
    "s1=\"name1.@gmail.com,name2.@gmail.com,name3.@gmail.com\"\n",
    "s1=s1.split(\".\")\n",
    "print(s1[0],s1[2][4:],s1[4][4:])"
   ]
  },
  {
   "cell_type": "code",
   "execution_count": 48,
   "id": "82b4be38",
   "metadata": {},
   "outputs": [],
   "source": [
    "#9. give a string of odd length greater that 9,return a new string made of the middle three characters of a given string ?"
   ]
  },
  {
   "cell_type": "code",
   "execution_count": 50,
   "id": "a62347bf",
   "metadata": {},
   "outputs": [
    {
     "data": {
      "text/plain": [
       "'pava'"
      ]
     },
     "execution_count": 50,
     "metadata": {},
     "output_type": "execute_result"
    }
   ],
   "source": [
    "name=\"saipavanbilla\"\n",
    "b=int(len(name)/3)\n",
    "name[b-1:b+3]"
   ]
  },
  {
   "cell_type": "code",
   "execution_count": 51,
   "id": "e87bcfa6",
   "metadata": {},
   "outputs": [],
   "source": [
    "#10.write a python program to insert a 2 string in the middle of 1 string ?"
   ]
  },
  {
   "cell_type": "code",
   "execution_count": 55,
   "id": "97a70949",
   "metadata": {},
   "outputs": [
    {
     "name": "stdout",
     "output_type": "stream",
     "text": [
      "pavan\n",
      "messy\n",
      "pamessyvan\n"
     ]
    }
   ],
   "source": [
    "str1=input(\"\")\n",
    "str2=input(\"\")\n",
    "print(str1[:len(str1)//2:]+str2+str1[len(str1)//2:])"
   ]
  },
  {
   "cell_type": "code",
   "execution_count": 56,
   "id": "179cc60b",
   "metadata": {},
   "outputs": [],
   "source": [
    "#11. write a program to remove vowels from the entire alphabets ?"
   ]
  },
  {
   "cell_type": "code",
   "execution_count": 1,
   "id": "9c0cc825",
   "metadata": {},
   "outputs": [
    {
     "name": "stdout",
     "output_type": "stream",
     "text": [
      "enter somethingabcdefghijklmnopqrstuvwxyz\n",
      "bcdfghjklmnpqrstvwxyz\n"
     ]
    }
   ],
   "source": [
    "var=input(\"enter something\")\n",
    "for a in var:\n",
    "    var1=var.replace(\"a\",\"\").replace(\"e\",\"\").replace(\"i\",\"\").replace(\"o\",\"\").replace(\"u\",\"\")\n",
    "print(var1)"
   ]
  },
  {
   "cell_type": "code",
   "execution_count": null,
   "id": "6d2874cd",
   "metadata": {},
   "outputs": [],
   "source": []
  }
 ],
 "metadata": {
  "kernelspec": {
   "display_name": "Python 3 (ipykernel)",
   "language": "python",
   "name": "python3"
  },
  "language_info": {
   "codemirror_mode": {
    "name": "ipython",
    "version": 3
   },
   "file_extension": ".py",
   "mimetype": "text/x-python",
   "name": "python",
   "nbconvert_exporter": "python",
   "pygments_lexer": "ipython3",
   "version": "3.9.13"
  }
 },
 "nbformat": 4,
 "nbformat_minor": 5
}
